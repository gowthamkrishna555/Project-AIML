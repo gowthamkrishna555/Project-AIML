{
  "nbformat": 4,
  "nbformat_minor": 0,
  "metadata": {
    "colab": {
      "provenance": [],
      "authorship_tag": "ABX9TyPqyB0JBhelRmpKUkEKA5Ex",
      "include_colab_link": true
    },
    "kernelspec": {
      "name": "python3",
      "display_name": "Python 3"
    },
    "language_info": {
      "name": "python"
    }
  },
  "cells": [
    {
      "cell_type": "markdown",
      "metadata": {
        "id": "view-in-github",
        "colab_type": "text"
      },
      "source": [
        "<a href=\"https://colab.research.google.com/github/gowthamkrishna555/Project-AIML/blob/main/heartdiseaseproject.ipynb\" target=\"_parent\"><img src=\"https://colab.research.google.com/assets/colab-badge.svg\" alt=\"Open In Colab\"/></a>"
      ]
    },
    {
      "cell_type": "code",
      "execution_count": null,
      "metadata": {
        "id": "_6MXt6B5ZfV3"
      },
      "outputs": [],
      "source": [
        "import seaborn as sns\n",
        "import pandas as pd\n",
        "import numpy as np\n",
        "from sklearn.model_selection import train_test_split\n",
        "import matplotlib.pyplot as plt\n"
      ]
    },
    {
      "cell_type": "code",
      "source": [
        "df=pd.read_csv('https://talentcocomedia.s3.amazonaws.com/ml-assets/heart-disease.csv')"
      ],
      "metadata": {
        "id": "ESGpbvcZZ467"
      },
      "execution_count": null,
      "outputs": []
    },
    {
      "cell_type": "code",
      "source": [
        "df.head()"
      ],
      "metadata": {
        "id": "sHBIrFC-pi5y"
      },
      "execution_count": null,
      "outputs": []
    },
    {
      "cell_type": "markdown",
      "source": [
        "The table contains medical data related to patients with heart disease. The headings are as follows:\n",
        "\n",
        "age: age of the patient\n",
        "\n",
        "sex: gender of the patient (1 = male, 0 = female)\n",
        "\n",
        "cp: chest pain type (1 = typical angina, 2 = atypical angina, 3 = non-anginal pain, 4 = asymptomatic)\n",
        "\n",
        "trestbps: resting blood pressure (in mm Hg)\n",
        "\n",
        "chol: serum cholesterol in mg/dl\n",
        "\n",
        "fbs: fasting blood sugar > 120 mg/dl (1 = true; 0 = false)\n",
        "restecg: resting electrocardiographic results (0 = normal, 1 = having ST-T wave abnormality, 2 = showing probable or definite left ventricular hypertrophy)\n",
        "\n",
        "thalach: maximum heart rate achieved\n",
        "\n",
        "exang: exercise induced angina (1 = yes; 0 = no)\n",
        "\n",
        "oldpeak: ST depression induced by exercise relative to rest\n",
        "\n",
        "slope: the slope of the peak exercise ST segment (1 = upsloping, 2 = flat, 3 = downsloping)\n",
        "\n",
        "ca: number of major vessels (0-3) colored by fluoroscopy\n",
        "\n",
        "\n",
        "thal: 3 = normal; 6 = fixed defect; 7 = reversable defect\n",
        "\n",
        "target: presence of heart disease (1 = yes, 0 = no)"
      ],
      "metadata": {
        "id": "PIpBDRSKplnG"
      }
    },
    {
      "cell_type": "code",
      "source": [
        "df.tail()"
      ],
      "metadata": {
        "id": "qXjPc8Bcpzcp"
      },
      "execution_count": null,
      "outputs": []
    },
    {
      "cell_type": "code",
      "source": [
        "df.describe()"
      ],
      "metadata": {
        "id": "yb2txShtp1nZ"
      },
      "execution_count": null,
      "outputs": []
    },
    {
      "cell_type": "markdown",
      "source": [
        "The output is a summary of the statistical information of the given dataset, which contains information related to patients with heart disease.\n",
        "\n",
        "For each column, it shows the following information:\n",
        "\n",
        "count: the number of non-missing values in the column.\n",
        "\n",
        "mean: the average (arithmetic mean) value of the column.\n",
        "\n",
        "std: the standard deviation of the column.\n",
        "\n",
        "min: the minimum value of the column.\n",
        "\n",
        "25%: the 25th percentile (lower quartile) value of the column.\n",
        "\n",
        "50%: the 50th percentile (median) value of the column.\n",
        "\n",
        "\n",
        "75%: the 75th percentile (upper quartile) value of the column.\n",
        "\n",
        "max: the maximum value of the column.\n",
        "This information provides a quick understanding of the data distribution, range and variation of each feature in the dataset."
      ],
      "metadata": {
        "id": "CL80ehmBp48r"
      }
    },
    {
      "cell_type": "code",
      "source": [
        "df.info()"
      ],
      "metadata": {
        "id": "YzY9yaLh3RgH"
      },
      "execution_count": null,
      "outputs": []
    },
    {
      "cell_type": "markdown",
      "source": [
        "NOTE:There is no missing values in the above data set"
      ],
      "metadata": {
        "id": "8uVxpj273X5W"
      }
    },
    {
      "cell_type": "code",
      "source": [
        "df.isnull().sum()"
      ],
      "metadata": {
        "id": "vmKAUbcX3ZXd"
      },
      "execution_count": null,
      "outputs": []
    },
    {
      "cell_type": "markdown",
      "source": [
        "Note:We cannot drop any values since there is no missing values as well as we require every column for predicting the heart disease hence no columns can be dropped\n",
        "\n",
        "Heat map\n",
        "\n",
        "A heat map is a visual representation of data that uses colors to show the distribution and intensity of values across a grid or map. In a typical heat map, the values are represented by colors ranging from cool (e.g., blue or green) to hot (e.g., red or orange). The hotter the color, the higher the value.\n",
        "\n",
        "Pair plot\n",
        "\n",
        "A pair plot, also known as a scatterplot matrix, is a visualization technique used to show the relationship between multiple variables in a dataset.In a pair plot, each variable is plotted against every other variable in the dataset, resulting in a matrix of scatterplots. The diagonal of the matrix typically shows a histogram or a density plot of the variable to show its distribution.\n",
        "\n",
        "Cluster map\n",
        "\n",
        "A cluster map is a type of visualization that shows the grouping or clustering of similar items or data points based on their similarities or differences. It is often used in data analysis, machine learning, and statistical modeling.In a cluster map, the items or data points are represented as points on a map or graph. The position of each point is determined by its similarity or dissimilarity to other points, with similar points being placed closer together and dissimilar points being placed farther apart."
      ],
      "metadata": {
        "id": "P0n6E-b73ioA"
      }
    },
    {
      "cell_type": "code",
      "source": [
        "df['sex'].unique()"
      ],
      "metadata": {
        "id": "YJtCW9kN3nPJ"
      },
      "execution_count": null,
      "outputs": []
    },
    {
      "cell_type": "code",
      "source": [
        "from sklearn.preprocessing import LabelEncoder\n",
        "sex_enc=LabelEncoder()"
      ],
      "metadata": {
        "id": "OIINaQXB3sf9"
      },
      "execution_count": null,
      "outputs": []
    },
    {
      "cell_type": "code",
      "source": [
        "df['sex']=sex_enc.fit_transform(df['sex'])"
      ],
      "metadata": {
        "id": "pnGZFcDq3yBZ"
      },
      "execution_count": null,
      "outputs": []
    },
    {
      "cell_type": "code",
      "source": [
        "df.head()"
      ],
      "metadata": {
        "id": "tFtoAEeF3zvZ"
      },
      "execution_count": null,
      "outputs": []
    },
    {
      "cell_type": "code",
      "source": [
        "df=pd.get_dummies(df,columns=['sex'])"
      ],
      "metadata": {
        "id": "8xb-IMi9324N"
      },
      "execution_count": null,
      "outputs": []
    },
    {
      "cell_type": "code",
      "source": [
        "df.head()"
      ],
      "metadata": {
        "id": "c_8X2p9t36jl"
      },
      "execution_count": null,
      "outputs": []
    },
    {
      "cell_type": "code",
      "source": [
        "df.corr()"
      ],
      "metadata": {
        "id": "bsrD18z039uq"
      },
      "execution_count": null,
      "outputs": []
    },
    {
      "cell_type": "code",
      "source": [
        "import seaborn as sns"
      ],
      "metadata": {
        "id": "SV6cCU2A4AyB"
      },
      "execution_count": null,
      "outputs": []
    },
    {
      "cell_type": "code",
      "source": [
        "sns.heatmap(df.corr(),square=True)"
      ],
      "metadata": {
        "id": "CsuDaFCT4Dem"
      },
      "execution_count": null,
      "outputs": []
    },
    {
      "cell_type": "code",
      "source": [
        "sns.pairplot(df)"
      ],
      "metadata": {
        "id": "P4_twDZH4Gn3"
      },
      "execution_count": null,
      "outputs": []
    },
    {
      "cell_type": "code",
      "source": [
        "plt.scatter(df[['age']],df[['target']])"
      ],
      "metadata": {
        "id": "WcvIzh3G4gOV"
      },
      "execution_count": null,
      "outputs": []
    },
    {
      "cell_type": "code",
      "source": [
        "plt.scatter(df[['age']],df[['thalach']])"
      ],
      "metadata": {
        "id": "ePY6wFki4jzB"
      },
      "execution_count": null,
      "outputs": []
    },
    {
      "cell_type": "code",
      "source": [
        "sns.pairplot(df,hue='fbs')"
      ],
      "metadata": {
        "id": "s2jAQRax4mr0"
      },
      "execution_count": null,
      "outputs": []
    },
    {
      "cell_type": "markdown",
      "source": [
        "Note:We dont need to drop any of the attributes in the given dataset,since all the data have sufficient amount of correlation between them none of the attributes need to be dropped.These attributes play an major role in predicting the heart disease and hence no attributes need to be dropped."
      ],
      "metadata": {
        "id": "7UsHC1ke4tl2"
      }
    },
    {
      "cell_type": "code",
      "source": [
        "y=df['target']"
      ],
      "metadata": {
        "id": "16tBxOagZ84G"
      },
      "execution_count": null,
      "outputs": []
    },
    {
      "cell_type": "code",
      "source": [
        "y"
      ],
      "metadata": {
        "id": "b8NRw3XIaAMQ"
      },
      "execution_count": null,
      "outputs": []
    },
    {
      "cell_type": "code",
      "source": [
        "x=df.drop('target',axis=1)"
      ],
      "metadata": {
        "id": "BEnnTbG3aBwg"
      },
      "execution_count": null,
      "outputs": []
    },
    {
      "cell_type": "code",
      "source": [
        "x"
      ],
      "metadata": {
        "id": "r7voZYOcaGkj"
      },
      "execution_count": null,
      "outputs": []
    },
    {
      "cell_type": "code",
      "source": [
        "x_train,x_test,y_train,y_test=train_test_split(x,y,test_size=0.3)"
      ],
      "metadata": {
        "id": "so5oyVFJaH35"
      },
      "execution_count": null,
      "outputs": []
    },
    {
      "cell_type": "markdown",
      "source": [
        "We are dividing the whole dataset as 70% for training and 30% of the data which is used for testing purpose"
      ],
      "metadata": {
        "id": "fDNjZuTXakWd"
      }
    },
    {
      "cell_type": "code",
      "source": [
        "df.shape"
      ],
      "metadata": {
        "id": "acCTN_biaxyt"
      },
      "execution_count": null,
      "outputs": []
    },
    {
      "cell_type": "code",
      "source": [
        "x_train.shape"
      ],
      "metadata": {
        "id": "QvrWZGSMaz6k"
      },
      "execution_count": null,
      "outputs": []
    },
    {
      "cell_type": "code",
      "source": [
        "y_train.shape"
      ],
      "metadata": {
        "id": "-rxNjRsVa2zx"
      },
      "execution_count": null,
      "outputs": []
    },
    {
      "cell_type": "code",
      "source": [
        "x_test.shape"
      ],
      "metadata": {
        "id": "1j9V8gtIa5_G"
      },
      "execution_count": null,
      "outputs": []
    },
    {
      "cell_type": "code",
      "source": [
        "y_test.shape"
      ],
      "metadata": {
        "id": "DOF6FArNa9Yz"
      },
      "execution_count": null,
      "outputs": []
    },
    {
      "cell_type": "code",
      "source": [
        "from sklearn.linear_model import LogisticRegression\n",
        "lr_model=LogisticRegression(penalty='l2',solver='newton-cg',C=5)"
      ],
      "metadata": {
        "id": "VRjf8uhPlkSl"
      },
      "execution_count": null,
      "outputs": []
    },
    {
      "cell_type": "code",
      "source": [
        "lr_model.fit(x_train,y_train)"
      ],
      "metadata": {
        "id": "WydrQ0Oqn88A"
      },
      "execution_count": null,
      "outputs": []
    },
    {
      "cell_type": "code",
      "source": [
        "y_pred_lr=lr_model.predict(x_test)"
      ],
      "metadata": {
        "id": "sojIlOcMoELO"
      },
      "execution_count": null,
      "outputs": []
    },
    {
      "cell_type": "code",
      "source": [
        "y_pred_lr"
      ],
      "metadata": {
        "id": "szHCE74FoQGJ"
      },
      "execution_count": null,
      "outputs": []
    },
    {
      "cell_type": "code",
      "source": [
        "from sklearn.metrics import accuracy_score\n",
        "acc=accuracy_score(y_pred_lr,y_test)\n",
        "acc"
      ],
      "metadata": {
        "id": "VX5IhUGOoTM9"
      },
      "execution_count": null,
      "outputs": []
    },
    {
      "cell_type": "markdown",
      "source": [
        "We try to find the accuracy in knn model also"
      ],
      "metadata": {
        "id": "LUNHpMHpodtx"
      }
    },
    {
      "cell_type": "code",
      "source": [
        "from sklearn.neighbors import KNeighborsClassifier\n",
        "from sklearn.model_selection import train_test_split\n",
        "from sklearn.datasets import load_iris"
      ],
      "metadata": {
        "id": "P7dn1uvOoicg"
      },
      "execution_count": null,
      "outputs": []
    },
    {
      "cell_type": "code",
      "source": [
        "x_train,x_test,y_train,y_test=train_test_split(x,y,test_size=0.3)"
      ],
      "metadata": {
        "id": "Z2EKZDJ_oy0D"
      },
      "execution_count": null,
      "outputs": []
    },
    {
      "cell_type": "code",
      "source": [
        "knn=KNeighborsClassifier(n_neighbors=3)"
      ],
      "metadata": {
        "id": "XpNf2f6Co8ZJ"
      },
      "execution_count": null,
      "outputs": []
    },
    {
      "cell_type": "code",
      "source": [
        "knn.fit(x_train,y_train)"
      ],
      "metadata": {
        "id": "vhpZBMP7pBy1"
      },
      "execution_count": null,
      "outputs": []
    },
    {
      "cell_type": "code",
      "source": [
        "accuracy=knn.score(x_train,y_train)"
      ],
      "metadata": {
        "id": "aZ5qVlUQpJod"
      },
      "execution_count": null,
      "outputs": []
    },
    {
      "cell_type": "code",
      "source": [
        "accuracy"
      ],
      "metadata": {
        "id": "o-BQca4JpPVU"
      },
      "execution_count": null,
      "outputs": []
    },
    {
      "cell_type": "code",
      "source": [
        "acc=knn.score(x_test,y_test)\n",
        "acc"
      ],
      "metadata": {
        "id": "T_1phVA-pReL"
      },
      "execution_count": null,
      "outputs": []
    },
    {
      "cell_type": "markdown",
      "source": [
        "We try to find the accuracy in the decisiontree model"
      ],
      "metadata": {
        "id": "77NTz3uMpZHk"
      }
    },
    {
      "cell_type": "code",
      "source": [
        "from sklearn.tree import DecisionTreeClassifier\n",
        "from sklearn.metrics import accuracy_score"
      ],
      "metadata": {
        "id": "FXaVt3ggpeB-"
      },
      "execution_count": null,
      "outputs": []
    },
    {
      "cell_type": "code",
      "source": [
        "x_train,x_test,y_train,y_test=train_test_split(x,y,test_size=0.3,random_state=42)"
      ],
      "metadata": {
        "id": "wZDYqbBapm83"
      },
      "execution_count": null,
      "outputs": []
    },
    {
      "cell_type": "code",
      "source": [
        "model=DecisionTreeClassifier()\n",
        "model.fit(x_train,y_train)"
      ],
      "metadata": {
        "id": "k1Ti_mrkp7s9"
      },
      "execution_count": null,
      "outputs": []
    },
    {
      "cell_type": "code",
      "source": [
        "y_pred=model.predict(x_test)"
      ],
      "metadata": {
        "id": "TOPiTMWoqGrL"
      },
      "execution_count": null,
      "outputs": []
    },
    {
      "cell_type": "code",
      "source": [
        "accuracy=accuracy_score(y_test,y_pred)"
      ],
      "metadata": {
        "id": "MIXYdNZJqK40"
      },
      "execution_count": null,
      "outputs": []
    },
    {
      "cell_type": "code",
      "source": [
        "accuracy"
      ],
      "metadata": {
        "id": "HBoADVQ1qQGu"
      },
      "execution_count": null,
      "outputs": []
    },
    {
      "cell_type": "code",
      "source": [
        "val=list(np.arange(0.01,1,0.1))\n",
        "val"
      ],
      "metadata": {
        "id": "x42-hE0lqWVO"
      },
      "execution_count": null,
      "outputs": []
    },
    {
      "cell_type": "markdown",
      "source": [
        "Since we are having a comparatively good accuracy in the logistic regression model we try to increase the regression of it to make it better"
      ],
      "metadata": {
        "id": "hR1ldeqsrjJY"
      }
    },
    {
      "cell_type": "code",
      "source": [
        "from sklearn.model_selection import GridSearchCV\n",
        "model_lr=LogisticRegression(penalty='l2')\n",
        "parameters={'solver':('newton-cg','liblinear','sag','saga'),'C':val}\n",
        "clf_lr=GridSearchCV(model_lr,parameters)\n",
        "clf_lr.fit(x_train,y_train)"
      ],
      "metadata": {
        "id": "6UGoSJRjq4RI"
      },
      "execution_count": null,
      "outputs": []
    },
    {
      "cell_type": "code",
      "source": [
        "print(clf_lr.best_params_)"
      ],
      "metadata": {
        "id": "3wEhhzEbr49M"
      },
      "execution_count": null,
      "outputs": []
    },
    {
      "cell_type": "code",
      "source": [
        "test_pred=clf_lr.predict(x_test)"
      ],
      "metadata": {
        "id": "rtfYM5o0r_Dn"
      },
      "execution_count": null,
      "outputs": []
    },
    {
      "cell_type": "code",
      "source": [
        "acc_lr_gs=accuracy_score(test_pred,y_test)\n",
        "acc_lr_gs"
      ],
      "metadata": {
        "id": "VejZFBevsG2r"
      },
      "execution_count": null,
      "outputs": []
    },
    {
      "cell_type": "code",
      "source": [
        "from sklearn.metrics import confusion_matrix\n",
        "confusion_matrix(test_pred,y_test)"
      ],
      "metadata": {
        "id": "8XJ9StI79kBM"
      },
      "execution_count": null,
      "outputs": []
    },
    {
      "cell_type": "code",
      "source": [
        "from sklearn.metrics import classification_report\n",
        "print(classification_report(y_test,test_pred))"
      ],
      "metadata": {
        "id": "EHXo_N2c-xQj"
      },
      "execution_count": null,
      "outputs": []
    },
    {
      "cell_type": "code",
      "source": [
        "from sklearn.metrics import precision_score,recall_score\n",
        "from sklearn.model_selection import train_test_split"
      ],
      "metadata": {
        "id": "CX2jKPG8B9MS"
      },
      "execution_count": null,
      "outputs": []
    },
    {
      "cell_type": "code",
      "source": [
        "model=LogisticRegression(penalty='l2')"
      ],
      "metadata": {
        "id": "QTgQprztCWtq"
      },
      "execution_count": null,
      "outputs": []
    },
    {
      "cell_type": "code",
      "source": [
        "model.fit(x_train,y_train)"
      ],
      "metadata": {
        "id": "KRD5KKcRCqcj"
      },
      "execution_count": null,
      "outputs": []
    },
    {
      "cell_type": "code",
      "source": [
        "y_pred=model.predict(x_test)"
      ],
      "metadata": {
        "id": "kc0qixw7DM-T"
      },
      "execution_count": null,
      "outputs": []
    },
    {
      "cell_type": "code",
      "source": [
        "precision=precision_score(y_pred,y_test)\n",
        "recall=recall_score(y_pred,y_test)\n",
        "precision"
      ],
      "metadata": {
        "id": "_WoYcUPWDVWn"
      },
      "execution_count": null,
      "outputs": []
    },
    {
      "cell_type": "code",
      "source": [
        "recall"
      ],
      "metadata": {
        "id": "91zDM-lnDorh"
      },
      "execution_count": null,
      "outputs": []
    },
    {
      "cell_type": "code",
      "source": [
        "from sklearn.neighbors import KNeighborsClassifier\n",
        "from sklearn.model_selection import train_test_split\n",
        "from sklearn.datasets import load_iris"
      ],
      "metadata": {
        "id": "drsRLegVuytb"
      },
      "execution_count": null,
      "outputs": []
    },
    {
      "cell_type": "code",
      "source": [
        "x_train,x_test,y_train,y_test=train_test_split(x,y,test_size=0.3)"
      ],
      "metadata": {
        "id": "KQTBcsoDvIC7"
      },
      "execution_count": null,
      "outputs": []
    },
    {
      "cell_type": "code",
      "source": [
        "knn=KNeighborsClassifier(n_neighbors=5,algorithm='brute')"
      ],
      "metadata": {
        "id": "mZKmOMYTvRFp"
      },
      "execution_count": null,
      "outputs": []
    },
    {
      "cell_type": "code",
      "source": [
        "knn.fit(x_train,y_train)"
      ],
      "metadata": {
        "id": "nfTqXKjqva47"
      },
      "execution_count": null,
      "outputs": []
    },
    {
      "cell_type": "code",
      "source": [
        "accuracy=knn.score(x_train,y_train)"
      ],
      "metadata": {
        "id": "ol3C731Nvf8C"
      },
      "execution_count": null,
      "outputs": []
    },
    {
      "cell_type": "code",
      "source": [
        "accuracy"
      ],
      "metadata": {
        "id": "MNZ24d12vm_N"
      },
      "execution_count": null,
      "outputs": []
    },
    {
      "cell_type": "markdown",
      "source": [
        "We try to find the accuracy of the dataset using the knn model"
      ],
      "metadata": {
        "id": "Gg46snUTwHG-"
      }
    },
    {
      "cell_type": "code",
      "source": [
        "acc=knn.score(x_test,y_test)\n",
        "acc"
      ],
      "metadata": {
        "id": "Z8Z2VjZgvp8S"
      },
      "execution_count": null,
      "outputs": []
    },
    {
      "cell_type": "code",
      "source": [
        "from sklearn.tree import DecisionTreeClassifier\n",
        "from sklearn.metrics import accuracy_score"
      ],
      "metadata": {
        "id": "OOcNmNQovxaT"
      },
      "execution_count": null,
      "outputs": []
    },
    {
      "cell_type": "markdown",
      "source": [
        "We try to find the accuracy using the decision tree model"
      ],
      "metadata": {
        "id": "R6TzJjqPv-MX"
      }
    },
    {
      "cell_type": "code",
      "source": [
        "x_train,x_test,y_train,y_test=train_test_split(x,y,test_size=0.2,random_state=42)"
      ],
      "metadata": {
        "id": "d-tlA54Zv8vy"
      },
      "execution_count": null,
      "outputs": []
    },
    {
      "cell_type": "code",
      "source": [
        "model=DecisionTreeClassifier(criterion='gini')\n",
        "model.fit(x_train,y_train)"
      ],
      "metadata": {
        "id": "72Ku5hMBwdRA"
      },
      "execution_count": null,
      "outputs": []
    },
    {
      "cell_type": "code",
      "source": [
        "y_pred=model.predict(x_test)"
      ],
      "metadata": {
        "id": "RsjBw6A1wm60"
      },
      "execution_count": null,
      "outputs": []
    },
    {
      "cell_type": "code",
      "source": [
        "accuracy=accuracy_score(y_test,y_pred)"
      ],
      "metadata": {
        "id": "um4l1SY4wr5k"
      },
      "execution_count": null,
      "outputs": []
    },
    {
      "cell_type": "code",
      "source": [
        "accuracy"
      ],
      "metadata": {
        "id": "xy9GuYfmwxZn"
      },
      "execution_count": null,
      "outputs": []
    },
    {
      "cell_type": "code",
      "source": [
        "val=list(np.arange(0.01,1,0.1))"
      ],
      "metadata": {
        "id": "FcG7oLsBwzbm"
      },
      "execution_count": null,
      "outputs": []
    },
    {
      "cell_type": "markdown",
      "source": [
        "We try to build the model for logistic Regression"
      ],
      "metadata": {
        "id": "RYG6Pt_yxzxx"
      }
    },
    {
      "cell_type": "code",
      "source": [
        "from sklearn.model_selection import GridSearchCV\n",
        "model_lr=LogisticRegression(penalty='l2')\n",
        "parameters={'solver':('newton-cg','liblinear','sag','saga'),'C':val}\n",
        "clf_lr=GridSearchCV(model_lr,parameters)\n",
        "clf_lr.fit(x_train,y_train)"
      ],
      "metadata": {
        "id": "nsLAQVuhw5zd"
      },
      "execution_count": null,
      "outputs": []
    },
    {
      "cell_type": "code",
      "source": [
        "print(clf_lr.best_params_)"
      ],
      "metadata": {
        "id": "JqIz88EcxlWa"
      },
      "execution_count": null,
      "outputs": []
    },
    {
      "cell_type": "code",
      "source": [
        "test_pred=clf_lr.predict(x_test)"
      ],
      "metadata": {
        "id": "JpB1Vauzx9Bt"
      },
      "execution_count": null,
      "outputs": []
    },
    {
      "cell_type": "code",
      "source": [
        "acc_lr_gs=accuracy_score(test_pred,y_test)\n",
        "acc_lr_gs"
      ],
      "metadata": {
        "id": "V7ZPAjx5x_hx"
      },
      "execution_count": null,
      "outputs": []
    },
    {
      "cell_type": "code",
      "source": [
        "from sklearn.metrics import confusion_matrix\n",
        "confusion_matrix(test_pred,y_test)"
      ],
      "metadata": {
        "id": "XT_Xepj_yFtB"
      },
      "execution_count": null,
      "outputs": []
    },
    {
      "cell_type": "code",
      "source": [
        "from sklearn.metrics import confusion_matrix\n",
        "confusion_matrix(test_pred,y_test)"
      ],
      "metadata": {
        "id": "el5T7q_YyMT4"
      },
      "execution_count": null,
      "outputs": []
    },
    {
      "cell_type": "code",
      "source": [
        "from sklearn.metrics import classification_report\n",
        "print(classification_report(y_test,test_pred))"
      ],
      "metadata": {
        "id": "88LzRDgqyOTv"
      },
      "execution_count": null,
      "outputs": []
    },
    {
      "cell_type": "markdown",
      "source": [
        "We try to find the confusion matrix for the knn model"
      ],
      "metadata": {
        "id": "ulIs0ZyQ0CeU"
      }
    },
    {
      "cell_type": "code",
      "source": [
        "from sklearn.model_selection import GridSearchCV\n",
        "from sklearn.neighbors import KNeighborsClassifier\n",
        "model_knn = KNeighborsClassifier()\n",
        "parameters = {'n_neighbors': [3, 5, 7, 9], 'weights': ['uniform', 'distance']}\n",
        "clf_knn = GridSearchCV(model_knn, parameters, scoring='accuracy')\n",
        "clf_knn.fit(x_train, y_train)\n"
      ],
      "metadata": {
        "id": "rX00QJ6L0Hjw"
      },
      "execution_count": null,
      "outputs": []
    },
    {
      "cell_type": "code",
      "source": [
        "print(clf_knn.best_params_)"
      ],
      "metadata": {
        "id": "MMDvjWIh00yW"
      },
      "execution_count": null,
      "outputs": []
    },
    {
      "cell_type": "code",
      "source": [
        "test_pred=clf_knn.predict(x_test)"
      ],
      "metadata": {
        "id": "LTbs5HUa08Kv"
      },
      "execution_count": null,
      "outputs": []
    },
    {
      "cell_type": "code",
      "source": [
        "acc_knn_gs=accuracy_score(test_pred,y_test)\n",
        "acc_knn_gs"
      ],
      "metadata": {
        "id": "qwER62p41CHt"
      },
      "execution_count": null,
      "outputs": []
    },
    {
      "cell_type": "code",
      "source": [
        "from sklearn.metrics import confusion_matrix\n",
        "confusion_matrix(test_pred,y_test)"
      ],
      "metadata": {
        "id": "OgJBV2DH1L35"
      },
      "execution_count": null,
      "outputs": []
    },
    {
      "cell_type": "code",
      "source": [
        "from sklearn.metrics import classification_report\n",
        "print(classification_report(y_test,test_pred))"
      ],
      "metadata": {
        "id": "-44XAWPd1QpX"
      },
      "execution_count": null,
      "outputs": []
    },
    {
      "cell_type": "markdown",
      "source": [
        "We try to build the confusion matrix for decision tree model"
      ],
      "metadata": {
        "id": "MeUL8uqD1Tb8"
      }
    },
    {
      "cell_type": "code",
      "source": [
        "from sklearn.tree import DecisionTreeClassifier\n",
        "from sklearn.model_selection import GridSearchCV\n",
        "model_dt = DecisionTreeClassifier()\n",
        "parameters = {'max_depth': [3, 5, 7, 9], 'criterion': ['gini', 'entropy']}\n",
        "clf_dt = GridSearchCV(model_dt, parameters, scoring='accuracy')\n",
        "clf_dt.fit(x_train, y_train)\n"
      ],
      "metadata": {
        "id": "1Q-PINGQ1zSj"
      },
      "execution_count": null,
      "outputs": []
    },
    {
      "cell_type": "code",
      "source": [
        "print(clf_dt.best_params_)"
      ],
      "metadata": {
        "id": "cufObanb1618"
      },
      "execution_count": null,
      "outputs": []
    },
    {
      "cell_type": "code",
      "source": [
        "test_pred=clf_dt.predict(x_test)"
      ],
      "metadata": {
        "id": "WMCI_38u2BQ4"
      },
      "execution_count": null,
      "outputs": []
    },
    {
      "cell_type": "code",
      "source": [
        "acc_dt_gs=accuracy_score(test_pred,y_test)\n",
        "acc_dt_gs"
      ],
      "metadata": {
        "id": "Tk2tYZ1F2KAY"
      },
      "execution_count": null,
      "outputs": []
    },
    {
      "cell_type": "code",
      "source": [
        "from sklearn.metrics import confusion_matrix\n",
        "confusion_matrix(test_pred,y_test)"
      ],
      "metadata": {
        "id": "XmKtJs-O2PvQ"
      },
      "execution_count": null,
      "outputs": []
    },
    {
      "cell_type": "code",
      "source": [
        "from sklearn.metrics import classification_report\n",
        "print(classification_report(y_test,test_pred))"
      ],
      "metadata": {
        "id": "73hVaB7c2Usa"
      },
      "execution_count": null,
      "outputs": []
    },
    {
      "cell_type": "code",
      "source": [
        "logreg_probs=clf_lr.predict_proba(x_test)\n",
        "Knn_probs=knn.predict_proba(x_test)\n",
        "Dtree_probs=model.predict_proba(x_test)"
      ],
      "metadata": {
        "id": "SYxB96W0yTWg"
      },
      "execution_count": null,
      "outputs": []
    },
    {
      "cell_type": "code",
      "source": [
        "#keep probabilities for the positive outcome only\n",
        "logreg_probs=logreg_probs[:, 1]\n",
        "Knn_probs=Knn_probs[:, 1]\n",
        "Dtree_probs=Dtree_probs[:, 1]"
      ],
      "metadata": {
        "id": "bciivII0yVY_"
      },
      "execution_count": null,
      "outputs": []
    },
    {
      "cell_type": "code",
      "source": [
        "from sklearn.metrics import roc_curve\n",
        "#fpr--> False Positive Rate\n",
        "#tpr-->True Positive Rate\n",
        "logreg_fpr,logreg_tpr,lr_thres=roc_curve(y_test,logreg_probs)\n",
        "Knn_fpr,Knn_tpr,Knn_thres=roc_curve(y_test,Knn_probs)\n",
        "Dtree_fpr,Dtree_tpr,Dtree_thres=roc_curve(y_test,Dtree_probs)"
      ],
      "metadata": {
        "id": "D6Uyfb49ydW3"
      },
      "execution_count": null,
      "outputs": []
    },
    {
      "cell_type": "code",
      "source": [
        "fig,ax=plt.subplots(figsize=(10,8))\n",
        "ax.plot(logreg_fpr,logreg_tpr,marker='.',label='Logistic')\n",
        "ax.plot(Knn_fpr,Knn_tpr,marker='.',label='KNN')\n",
        "ax.plot(Dtree_fpr,Dtree_tpr,marker='.',label='Dtree')\n",
        "#axis labels\n",
        "plt.xlabel('False Positive Rate')\n",
        "plt.ylabel('True Positive Rate')\n",
        "#show the legend\n",
        "plt.legend(loc=8)\n",
        "#show the plot\n",
        "plt.show()"
      ],
      "metadata": {
        "id": "73DJ-rpCyfS6"
      },
      "execution_count": null,
      "outputs": []
    },
    {
      "cell_type": "code",
      "source": [
        "from sklearn.metrics import roc_auc_score\n",
        "#calculate scores\n",
        "logreg_auc=roc_auc_score(y_test,logreg_probs)\n",
        "Knn_auc=roc_auc_score(y_test,Knn_probs)\n",
        "Dtree_auc=roc_auc_score(y_test,Dtree_probs)\n",
        "print('Logistic:ROC AUC={} %'.format(round(logreg_auc,3)*100))\n",
        "print('KNN:ROC AUC={}%'.format(round(Knn_auc,3)*100))\n",
        "print('DTree:ROC AUC={}%'.format(round(Dtree_auc,3)*100))"
      ],
      "metadata": {
        "id": "KZLUTGENzRgJ"
      },
      "execution_count": null,
      "outputs": []
    },
    {
      "cell_type": "markdown",
      "source": [
        "Here we get to know that the Logistic regression model is one of the best model"
      ],
      "metadata": {
        "id": "LNX2kWN0zYdn"
      }
    },
    {
      "cell_type": "markdown",
      "source": [
        "We try to take the input from the user and check whether our model works correctly or not"
      ],
      "metadata": {
        "id": "TkkQR_O3-2m-"
      }
    },
    {
      "cell_type": "code",
      "source": [
        "#from pandas.core.window.expanding import ExpandingGroupby\n",
        "#from matplotlib.projections.polar import ThetaAxis\n",
        "#n = int(input(\"Enter no of Patients who's Status is to be Determined :- \"))\n",
        "\n",
        "#def Prediction() :\n",
        "#  age = int(input(\"Age of the Patient :- \"))\n",
        "#  sex = int(input(\"Sex of the Patient (0 - female & 1 - male) :- \"))\n",
        "# cp = int(input(\"Chest Pain Type :- \"))\n",
        "#  trestbps = int(input(\"Resting Blood Pressure :- \"))\n",
        "#  chol = int(input(\"Serum Cholestrol :- \"))\n",
        "#  fbs = int(input(\"Fasting Blood Sugar :- \"))\n",
        "#  restecg = int(input(\"Resting ElectroCardiographic Result :- \"))\n",
        "#  thalach = int(input(\"Maximum Heart Rate Achieved :- \"))\n",
        "#  exang = int(input(\"Exercise-include angina (1 - True, 0 - False) :- \"))\n",
        "#  oldpeak = float(input(\"ST Depression induced by Exercise relative to Rest :- \"))\n",
        "#  slope = int(input(\"Slope of Peak Exercise ST segment :- \"))\n",
        "#  ca = int(input(\"No. of Major Vessels (0-3) :- \"))\n",
        "# thal = int(input(\"Thalasemia Indicator :- \"))\n",
        "#  new_patient = np.array([age, sex, cp, trestbps, chol, fbs, restecg, thalach, exang, oldpeak, slope, ca, thal])\n",
        "\n",
        "#  new_patient = new_patient.reshape(1,-1) #converting to 2D array\n",
        "\n",
        "#  if clf_lr.predict(new_patient) == 0 :\n",
        "#   return \"The Patient with the above provided Vitals Dies!!!\"\n",
        "#  else :\n",
        "#    return \"The Patient with the above provided vitals Lives!!!\"\n",
        "\n",
        "#for i in range(n) :\n",
        "#  print(Prediction())\n",
        "     "
      ],
      "metadata": {
        "id": "o0qeluUqzjb0"
      },
      "execution_count": null,
      "outputs": []
    }
  ]
}